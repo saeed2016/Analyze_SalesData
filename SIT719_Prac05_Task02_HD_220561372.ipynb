{
  "nbformat": 4,
  "nbformat_minor": 0,
  "metadata": {
    "colab": {
      "name": "SIT719_Prac05_Task02_HD_220561372.ipynb",
      "provenance": [],
      "collapsed_sections": [],
      "include_colab_link": true
    },
    "kernelspec": {
      "display_name": "Python 3",
      "language": "python",
      "name": "python3"
    },
    "language_info": {
      "codemirror_mode": {
        "name": "ipython",
        "version": 3
      },
      "file_extension": ".py",
      "mimetype": "text/x-python",
      "name": "python",
      "nbconvert_exporter": "python",
      "pygments_lexer": "ipython3",
      "version": "3.8.2"
    },
    "accelerator": "GPU"
  },
  "cells": [
    {
      "cell_type": "markdown",
      "metadata": {
        "id": "view-in-github",
        "colab_type": "text"
      },
      "source": [
        "<a href=\"https://colab.research.google.com/github/saeed2016/Analyze_SalesData/blob/master/SIT719_Prac05_Task02_HD_220561372.ipynb\" target=\"_parent\"><img src=\"https://colab.research.google.com/assets/colab-badge.svg\" alt=\"Open In Colab\"/></a>"
      ]
    },
    {
      "cell_type": "markdown",
      "metadata": {
        "id": "MJd6uzyEmQHC"
      },
      "source": [
        "# SECTION 1: DECLARE THE MODULES"
      ]
    },
    {
      "cell_type": "code",
      "metadata": {
        "id": "F7_4V1uw_4Mi"
      },
      "source": [
        "## Saeed Azad 220561372"
      ],
      "execution_count": null,
      "outputs": []
    },
    {
      "cell_type": "code",
      "metadata": {
        "id": "jE01e338mQHD"
      },
      "source": [
        "import os\n",
        "from collections import defaultdict\n",
        "import pandas as pd\n",
        "import numpy as np\n",
        "import matplotlib.pyplot as plt\n",
        "\n",
        "import warnings\n",
        "warnings.filterwarnings('ignore')\n",
        "\n",
        "\n"
      ],
      "execution_count": null,
      "outputs": []
    },
    {
      "cell_type": "markdown",
      "metadata": {
        "id": "M0PN1a4WmQHG"
      },
      "source": [
        "# SECTION 2: Data import and preprocess\n",
        "#Run this but dont worry if it does not make any sense Jump to SECTION 3 that is related to your HD task."
      ]
    },
    {
      "cell_type": "code",
      "metadata": {
        "id": "zSA-pXTImQHI",
        "outputId": "36a58846-2dc3-49eb-c6b1-15597af5c643",
        "colab": {
          "base_uri": "https://localhost:8080/",
          "height": 34
        }
      },
      "source": [
        "!pip install wget\n",
        "import wget\n",
        "    \n",
        "link_to_data = 'https://raw.githubusercontent.com/SIT719/2020-S2/master/data/Week_5_NSL-KDD-Dataset/training_attack_types.txt?raw=true'\n",
        "DataSet = wget.download(link_to_data) "
      ],
      "execution_count": null,
      "outputs": [
        {
          "output_type": "stream",
          "text": [
            "Requirement already satisfied: wget in /usr/local/lib/python3.6/dist-packages (3.2)\n"
          ],
          "name": "stdout"
        }
      ]
    },
    {
      "cell_type": "code",
      "metadata": {
        "id": "ps1gbwb0mQHL",
        "outputId": "2f0c6bec-abdc-4c36-d88b-5fca167a7dfb",
        "colab": {
          "base_uri": "https://localhost:8080/",
          "height": 35
        }
      },
      "source": [
        "DataSet"
      ],
      "execution_count": null,
      "outputs": [
        {
          "output_type": "execute_result",
          "data": {
            "application/vnd.google.colaboratory.intrinsic+json": {
              "type": "string"
            },
            "text/plain": [
              "'training_attack_types (1).txt'"
            ]
          },
          "metadata": {
            "tags": []
          },
          "execution_count": 17
        }
      ]
    },
    {
      "cell_type": "code",
      "metadata": {
        "id": "T1Fjq5Y3mQHO"
      },
      "source": [
        "header_names = ['duration', 'protocol_type', 'service', 'flag', 'src_bytes', 'dst_bytes', 'land', 'wrong_fragment', 'urgent', 'hot', 'num_failed_logins', 'logged_in', 'num_compromised', 'root_shell', 'su_attempted', 'num_root', 'num_file_creations', 'num_shells', 'num_access_files', 'num_outbound_cmds', 'is_host_login', 'is_guest_login', 'count', 'srv_count', 'serror_rate', 'srv_serror_rate', 'rerror_rate', 'srv_rerror_rate', 'same_srv_rate', 'diff_srv_rate', 'srv_diff_host_rate', 'dst_host_count', 'dst_host_srv_count', 'dst_host_same_srv_rate', 'dst_host_diff_srv_rate', 'dst_host_same_src_port_rate', 'dst_host_srv_diff_host_rate', 'dst_host_serror_rate', 'dst_host_srv_serror_rate', 'dst_host_rerror_rate', 'dst_host_srv_rerror_rate', 'attack_type', 'success_pred']\n",
        "\n",
        "\n",
        "# Differentiating between nominal, binary, and numeric features\n",
        "\n",
        "# root_shell is marked as a continuous feature in the kddcup.names \n",
        "# file, but it is supposed to be a binary feature according to the \n",
        "# dataset documentation\n",
        "\n",
        "# training_attack_types.txt maps each of the 22 different attacks to 1 of 4 categories\n",
        "# file obtained from http://kdd.ics.uci.edu/databases/kddcup99/training_attack_types\n",
        "\n",
        "col_names = np.array(header_names)\n",
        "\n",
        "nominal_idx = [1, 2, 3]\n",
        "binary_idx = [6, 11, 13, 14, 20, 21]\n",
        "numeric_idx = list(set(range(41)).difference(nominal_idx).difference(binary_idx))\n",
        "\n",
        "nominal_cols = col_names[nominal_idx].tolist()\n",
        "binary_cols = col_names[binary_idx].tolist()\n",
        "numeric_cols = col_names[numeric_idx].tolist()"
      ],
      "execution_count": null,
      "outputs": []
    },
    {
      "cell_type": "code",
      "metadata": {
        "id": "ZIbrCgw1mQHQ"
      },
      "source": [
        "# training_attack_types.txt maps each of the 22 different attacks to 1 of 4 categories\n",
        "# file obtained from http://kdd.ics.uci.edu/databases/kddcup99/training_attack_types\n",
        "\n",
        "category = defaultdict(list)\n",
        "category['benign'].append('normal')\n",
        "\n",
        "with open(DataSet, 'r') as f:\n",
        "    for line in f.readlines():\n",
        "        attack, cat = line.strip().split(' ')\n",
        "        category[cat].append(attack)\n",
        "\n",
        "attack_mapping = dict((v,k) for k in category for v in category[k])"
      ],
      "execution_count": null,
      "outputs": []
    },
    {
      "cell_type": "code",
      "metadata": {
        "id": "su13BFtBmQHT",
        "outputId": "40c524b7-75ac-4d8b-b3d4-207fb0744460",
        "colab": {
          "base_uri": "https://localhost:8080/",
          "height": 697
        }
      },
      "source": [
        "attack_mapping"
      ],
      "execution_count": null,
      "outputs": [
        {
          "output_type": "execute_result",
          "data": {
            "text/plain": [
              "{'apache2': 'dos',\n",
              " 'back': 'dos',\n",
              " 'buffer_overflow': 'u2r',\n",
              " 'ftp_write': 'r2l',\n",
              " 'guess_passwd': 'r2l',\n",
              " 'httptunnel': 'u2r',\n",
              " 'imap': 'r2l',\n",
              " 'ipsweep': 'probe',\n",
              " 'land': 'dos',\n",
              " 'loadmodule': 'u2r',\n",
              " 'mailbomb': 'dos',\n",
              " 'mscan': 'probe',\n",
              " 'multihop': 'r2l',\n",
              " 'named': 'r2l',\n",
              " 'neptune': 'dos',\n",
              " 'nmap': 'probe',\n",
              " 'normal': 'benign',\n",
              " 'perl': 'u2r',\n",
              " 'phf': 'r2l',\n",
              " 'pod': 'dos',\n",
              " 'portsweep': 'probe',\n",
              " 'processtable': 'dos',\n",
              " 'ps': 'u2r',\n",
              " 'rootkit': 'u2r',\n",
              " 'saint': 'probe',\n",
              " 'satan': 'probe',\n",
              " 'sendmail': 'r2l',\n",
              " 'smurf': 'dos',\n",
              " 'snmpgetattack': 'dos',\n",
              " 'snmpguess': 'r2l',\n",
              " 'spy': 'r2l',\n",
              " 'sqlattack': 'u2r',\n",
              " 'teardrop': 'dos',\n",
              " 'udpstorm': 'dos',\n",
              " 'warezclient': 'r2l',\n",
              " 'warezmaster': 'r2l',\n",
              " 'worm': 'probe',\n",
              " 'xlock': 'r2l',\n",
              " 'xsnoop': 'r2l',\n",
              " 'xterm': 'u2r'}"
            ]
          },
          "metadata": {
            "tags": []
          },
          "execution_count": 20
        }
      ]
    },
    {
      "cell_type": "code",
      "metadata": {
        "id": "MyEaxKo_mQHV"
      },
      "source": [
        "#Processing Training Data\n",
        "\n",
        "train_file='https://raw.githubusercontent.com/SIT719/2020-S2/master/data/Week_5_NSL-KDD-Dataset/KDDTrain%2B.txt'\n",
        "\n",
        "\n",
        "\n",
        "train_df = pd.read_csv(train_file, names=header_names)\n",
        "\n",
        "train_df['attack_category'] = train_df['attack_type'] \\\n",
        "                                .map(lambda x: attack_mapping[x])\n",
        "\n",
        "train_df.drop(['success_pred'], axis=1, inplace=True)\n",
        "\n",
        "\n",
        "\n",
        "\n"
      ],
      "execution_count": null,
      "outputs": []
    },
    {
      "cell_type": "code",
      "metadata": {
        "id": "XsJVUSAZmQHY"
      },
      "source": [
        "#Processing test Data\n",
        "test_file='https://raw.githubusercontent.com/SIT719/2020-S2/master/data/Week_5_NSL-KDD-Dataset/KDDTest%2B.txt'\n",
        "\n",
        "test_df = pd.read_csv(test_file, names=header_names)\n",
        "test_df['attack_category'] = test_df['attack_type'] \\\n",
        "                                .map(lambda x: attack_mapping[x])\n",
        "test_df.drop(['success_pred'], axis=1, inplace=True)"
      ],
      "execution_count": null,
      "outputs": []
    },
    {
      "cell_type": "code",
      "metadata": {
        "id": "q2wjq-QMmQHa",
        "scrolled": true,
        "outputId": "4bb04789-f0a7-48aa-bb23-24e5a54803fb",
        "colab": {
          "base_uri": "https://localhost:8080/",
          "height": 397
        }
      },
      "source": [
        "train_attack_types = train_df['attack_type'].value_counts()\n",
        "train_attack_cats = train_df['attack_category'].value_counts()\n",
        "\n",
        "test_attack_types = test_df['attack_type'].value_counts()\n",
        "test_attack_cats = test_df['attack_category'].value_counts()\n",
        "\n",
        "train_attack_types.plot(kind='barh', figsize=(20,10), fontsize=20)\n",
        "\n",
        "train_attack_cats.plot(kind='barh', figsize=(20,10), fontsize=30)\n",
        "\n",
        "train_df[binary_cols].describe().transpose()\n",
        "train_df.groupby(['su_attempted']).size()\n",
        "train_df['su_attempted'].replace(2, 0, inplace=True)\n",
        "test_df['su_attempted'].replace(2, 0, inplace=True)\n",
        "train_df.groupby(['su_attempted']).size()\n",
        "train_df.groupby(['num_outbound_cmds']).size()\n",
        "\n",
        "#Now, that's not a very useful feature - let's drop it from the dataset\n",
        "\n",
        "train_df.drop('num_outbound_cmds', axis = 1, inplace=True)\n",
        "test_df.drop('num_outbound_cmds', axis = 1, inplace=True)\n",
        "numeric_cols.remove('num_outbound_cmds')\n",
        "\n",
        "\n",
        "\n",
        "#Data Preparation\n",
        "\n",
        "train_Y = train_df['attack_category']\n",
        "train_x_raw = train_df.drop(['attack_category','attack_type'], axis=1)\n",
        "test_Y = test_df['attack_category']\n",
        "test_x_raw = test_df.drop(['attack_category','attack_type'], axis=1)\n",
        "\n",
        "\n",
        "combined_df_raw = pd.concat([train_x_raw, test_x_raw])\n",
        "combined_df = pd.get_dummies(combined_df_raw, columns=nominal_cols, drop_first=True)\n",
        "\n",
        "train_x = combined_df[:len(train_x_raw)]\n",
        "test_x = combined_df[len(train_x_raw):]\n",
        "\n",
        "# Store dummy variable feature names\n",
        "dummy_variables = list(set(train_x)-set(combined_df_raw))\n",
        "\n",
        "#execute the commands in console\n",
        "train_x.describe()\n",
        "train_x['duration'].describe()\n",
        "# Experimenting with StandardScaler on the single 'duration' feature\n",
        "from sklearn.preprocessing import StandardScaler\n",
        "\n",
        "durations = train_x['duration'].values.reshape(-1, 1)\n",
        "standard_scaler = StandardScaler().fit(durations)\n",
        "scaled_durations = standard_scaler.transform(durations)\n",
        "pd.Series(scaled_durations.flatten()).describe()\n",
        "\n",
        "# Experimenting with MinMaxScaler on the single 'duration' feature\n",
        "from sklearn.preprocessing import MinMaxScaler\n",
        "\n",
        "min_max_scaler = MinMaxScaler().fit(durations)\n",
        "min_max_scaled_durations = min_max_scaler.transform(durations)\n",
        "pd.Series(min_max_scaled_durations.flatten()).describe()\n",
        "\n",
        "# Experimenting with RobustScaler on the single 'duration' feature\n",
        "from sklearn.preprocessing import RobustScaler\n",
        "\n",
        "min_max_scaler = RobustScaler().fit(durations)\n",
        "robust_scaled_durations = min_max_scaler.transform(durations)\n",
        "pd.Series(robust_scaled_durations.flatten()).describe()\n",
        "\n",
        "# Experimenting with MaxAbsScaler on the single 'duration' feature\n",
        "from sklearn.preprocessing import MaxAbsScaler\n",
        "\n",
        "max_Abs_scaler = MaxAbsScaler().fit(durations)\n",
        "robust_scaled_durations = max_Abs_scaler.transform(durations)\n",
        "pd.Series(robust_scaled_durations.flatten()).describe()\n",
        "\n",
        "# Let's proceed with StandardScaler- Apply to all the numeric columns\n",
        "\n",
        "standard_scaler = StandardScaler().fit(train_x[numeric_cols])\n",
        "\n",
        "train_x[numeric_cols] = \\\n",
        "    standard_scaler.transform(train_x[numeric_cols])\n",
        "\n",
        "test_x[numeric_cols] = \\\n",
        "    standard_scaler.transform(test_x[numeric_cols])\n",
        "    \n",
        "train_x.describe()\n",
        "\n",
        "\n",
        "\n",
        "train_Y_bin = train_Y.apply(lambda x: 0 if x is 'benign' else 1)\n",
        "test_Y_bin = test_Y.apply(lambda x: 0 if x is 'benign' else 1)\n"
      ],
      "execution_count": null,
      "outputs": [
        {
          "output_type": "display_data",
          "data": {
            "image/png": "[encoded data removed]",
            "text/plain": [
              "<Figure size 1440x720 with 1 Axes>"
            ]
          },
          "metadata": {
            "tags": [],
            "needs_background": "light"
          }
        }
      ]
    },
    {
      "cell_type": "markdown",
      "metadata": {
        "id": "71VRYrATmQHc"
      },
      "source": [
        "# SECTION 3: Multi class classification\n",
        "#This is the section where you have to add other algorithms, tune algorithms and visualize to compare and analyze algorithms"
      ]
    },
    {
      "cell_type": "code",
      "metadata": {
        "id": "vGMVADL7mQHd",
        "outputId": "60ac40bd-3337-417b-df94-b5a3dc868951",
        "colab": {
          "base_uri": "https://localhost:8080/",
          "height": 119
        }
      },
      "source": [
        "# 5-class classification version\n",
        "from sklearn.tree import DecisionTreeClassifier\n",
        "from sklearn.metrics import confusion_matrix, zero_one_loss\n",
        "\n",
        "classifier = DecisionTreeClassifier(random_state=17)\n",
        "classifier.fit(train_x, train_Y)\n",
        "\n",
        "pred_y = classifier.predict(test_x)\n",
        "\n",
        "results = confusion_matrix(test_Y, pred_y)\n",
        "error = zero_one_loss(test_Y, pred_y)\n",
        "\n",
        "print(results)\n",
        "print(error)\n",
        " "
      ],
      "execution_count": null,
      "outputs": [
        {
          "output_type": "stream",
          "text": [
            "[[9365   56  289    1    0]\n",
            " [1541 5998   97    0    0]\n",
            " [ 677  220 1526    0    0]\n",
            " [2278    1   14  277    4]\n",
            " [ 175    0    5    5   15]]\n",
            "0.2378903477643719\n"
          ],
          "name": "stdout"
        }
      ]
    },
    {
      "cell_type": "code",
      "metadata": {
        "id": "zeJwY4lBPYiL",
        "outputId": "3fb83775-e907-4963-da7e-ef6ce2e504e7",
        "colab": {
          "base_uri": "https://localhost:8080/",
          "height": 34
        }
      },
      "source": [
        "## length of Train and Test Datasets  they have 42 attributes(features)\n",
        "train_df.shape, test_df.shape"
      ],
      "execution_count": null,
      "outputs": [
        {
          "output_type": "execute_result",
          "data": {
            "text/plain": [
              "((125973, 42), (22544, 42))"
            ]
          },
          "metadata": {
            "tags": []
          },
          "execution_count": 25
        }
      ]
    },
    {
      "cell_type": "code",
      "metadata": {
        "id": "CdlzevfWZ9C1",
        "outputId": "d320978b-b91a-4823-fa5f-9e1847bf14f1",
        "colab": {
          "base_uri": "https://localhost:8080/",
          "height": 34
        }
      },
      "source": [
        "train_df['attack_category'].unique()"
      ],
      "execution_count": null,
      "outputs": [
        {
          "output_type": "execute_result",
          "data": {
            "text/plain": [
              "array(['benign', 'dos', 'r2l', 'probe', 'u2r'], dtype=object)"
            ]
          },
          "metadata": {
            "tags": []
          },
          "execution_count": 26
        }
      ]
    },
    {
      "cell_type": "code",
      "metadata": {
        "id": "NSJzFr-rcMb5",
        "outputId": "d245ae4d-fa22-4e07-d20c-88806d74e41a",
        "colab": {
          "base_uri": "https://localhost:8080/",
          "height": 34
        }
      },
      "source": [
        "df_dos = train_df.loc[train_df['attack_category']=='dos']\n",
        "df_benign = train_df.loc[train_df['attack_category']=='benign']\n",
        "df_r2l = train_df.loc[train_df['attack_category']=='r2l']\n",
        "df_u2r = train_df.loc[train_df['attack_category']=='u2r']\n",
        "df_probe = train_df.loc[train_df['attack_category']=='probe']\n",
        "df_dos.shape\n",
        "df_benign.shape\n",
        "df_probe.shape\n",
        "df_u2r.shape\n",
        "df_r2l.shape"
      ],
      "execution_count": null,
      "outputs": [
        {
          "output_type": "execute_result",
          "data": {
            "text/plain": [
              "(995, 42)"
            ]
          },
          "metadata": {
            "tags": []
          },
          "execution_count": 27
        }
      ]
    },
    {
      "cell_type": "code",
      "metadata": {
        "id": "772D6Sy6e-I-",
        "outputId": "e50be176-5015-472b-d4e4-43400afe45f8",
        "colab": {
          "base_uri": "https://localhost:8080/",
          "height": 34
        }
      },
      "source": [
        "# I reckon we faced with imbalanced dataset so the model prediction is not good for the attack  types (u2r and r2l)\n",
        "df_u2r = test_df.loc[test_df['attack_category']=='u2r']\n",
        "df_u2r.shape\n",
        "df_u2r = test_df.loc[test_df['attack_category']=='dos']\n",
        "df_u2r.shape"
      ],
      "execution_count": null,
      "outputs": [
        {
          "output_type": "execute_result",
          "data": {
            "text/plain": [
              "(7636, 42)"
            ]
          },
          "metadata": {
            "tags": []
          },
          "execution_count": 28
        }
      ]
    },
    {
      "cell_type": "code",
      "metadata": {
        "id": "yAAhPgGzviQo",
        "outputId": "786900ce-8dc4-4c8b-8aa8-263198161217",
        "colab": {
          "base_uri": "https://localhost:8080/",
          "height": 255
        }
      },
      "source": [
        "# identify the attribute names(Header)\n",
        "train_df.columns.values.tolist()\n",
        "train_df.columns"
      ],
      "execution_count": null,
      "outputs": [
        {
          "output_type": "execute_result",
          "data": {
            "text/plain": [
              "Index(['duration', 'protocol_type', 'service', 'flag', 'src_bytes',\n",
              "       'dst_bytes', 'land', 'wrong_fragment', 'urgent', 'hot',\n",
              "       'num_failed_logins', 'logged_in', 'num_compromised', 'root_shell',\n",
              "       'su_attempted', 'num_root', 'num_file_creations', 'num_shells',\n",
              "       'num_access_files', 'is_host_login', 'is_guest_login', 'count',\n",
              "       'srv_count', 'serror_rate', 'srv_serror_rate', 'rerror_rate',\n",
              "       'srv_rerror_rate', 'same_srv_rate', 'diff_srv_rate',\n",
              "       'srv_diff_host_rate', 'dst_host_count', 'dst_host_srv_count',\n",
              "       'dst_host_same_srv_rate', 'dst_host_diff_srv_rate',\n",
              "       'dst_host_same_src_port_rate', 'dst_host_srv_diff_host_rate',\n",
              "       'dst_host_serror_rate', 'dst_host_srv_serror_rate',\n",
              "       'dst_host_rerror_rate', 'dst_host_srv_rerror_rate', 'attack_type',\n",
              "       'attack_category'],\n",
              "      dtype='object')"
            ]
          },
          "metadata": {
            "tags": []
          },
          "execution_count": 29
        }
      ]
    },
    {
      "cell_type": "code",
      "metadata": {
        "id": "gpWbLKqYFPou"
      },
      "source": [
        "from sklearn.metrics import recall_score,precision_score,f1_score,accuracy_score\n",
        "from sklearn import metrics\n"
      ],
      "execution_count": null,
      "outputs": []
    },
    {
      "cell_type": "code",
      "metadata": {
        "id": "wMk9FMJrrQ6b"
      },
      "source": [
        "from sklearn.ensemble import RandomForestClassifier\n",
        "clf_RanForest = RandomForestClassifier()"
      ],
      "execution_count": null,
      "outputs": []
    },
    {
      "cell_type": "code",
      "metadata": {
        "id": "lo_Fh7y0r_NV",
        "outputId": "5b8685a6-c010-40f8-8b9d-f066bf065867",
        "colab": {
          "base_uri": "https://localhost:8080/",
          "height": 153
        }
      },
      "source": [
        "clf_RanForest.fit(train_x,train_Y)"
      ],
      "execution_count": null,
      "outputs": [
        {
          "output_type": "execute_result",
          "data": {
            "text/plain": [
              "RandomForestClassifier(bootstrap=True, ccp_alpha=0.0, class_weight=None,\n",
              "                       criterion='gini', max_depth=None, max_features='auto',\n",
              "                       max_leaf_nodes=None, max_samples=None,\n",
              "                       min_impurity_decrease=0.0, min_impurity_split=None,\n",
              "                       min_samples_leaf=1, min_samples_split=2,\n",
              "                       min_weight_fraction_leaf=0.0, n_estimators=100,\n",
              "                       n_jobs=None, oob_score=False, random_state=None,\n",
              "                       verbose=0, warm_start=False)"
            ]
          },
          "metadata": {
            "tags": []
          },
          "execution_count": 32
        }
      ]
    },
    {
      "cell_type": "code",
      "metadata": {
        "id": "rCDH0pj8sMKr"
      },
      "source": [
        "pred_RanForest = clf_RanForest.predict(test_x)"
      ],
      "execution_count": null,
      "outputs": []
    },
    {
      "cell_type": "code",
      "metadata": {
        "id": "QIrpnjTlsUQm",
        "outputId": "263541ab-006f-4323-98df-0511804755b8",
        "colab": {
          "base_uri": "https://localhost:8080/",
          "height": 102
        }
      },
      "source": [
        "cm_RanForest = confusion_matrix(test_Y,pred_RanForest)\n",
        "print(results)\n"
      ],
      "execution_count": null,
      "outputs": [
        {
          "output_type": "stream",
          "text": [
            "[[9456   67  186    0    2]\n",
            " [1887 5691   58    0    0]\n",
            " [ 796  163 1464    0    0]\n",
            " [2448    0    2  122    2]\n",
            " [ 189    0    3    3    5]]\n"
          ],
          "name": "stdout"
        }
      ]
    },
    {
      "cell_type": "code",
      "metadata": {
        "id": "OX-ESTdumwA9",
        "outputId": "b912aeda-98a7-49ba-802a-0d5e49caf381",
        "colab": {
          "base_uri": "https://localhost:8080/",
          "height": 34
        }
      },
      "source": [
        "print(\"{:.2%}\".format(accuracy_score(test_Y,pred_RanForest)))"
      ],
      "execution_count": null,
      "outputs": [
        {
          "output_type": "stream",
          "text": [
            "74.25%\n"
          ],
          "name": "stdout"
        }
      ]
    },
    {
      "cell_type": "code",
      "metadata": {
        "id": "Us7Si9gMICuy",
        "outputId": "8542d393-b919-403a-f5af-b85dbfaa7c0d",
        "colab": {
          "base_uri": "https://localhost:8080/",
          "height": 102
        }
      },
      "source": [
        "precision_RanForest = precision_score(test_Y,pred_RanForest,average=None)\n",
        "for value in precision_RanForest:\n",
        "  print(\"{:.2%}\".format(value))\n",
        "\n",
        "\n"
      ],
      "execution_count": null,
      "outputs": [
        {
          "output_type": "stream",
          "text": [
            "64.00%\n",
            "96.12%\n",
            "85.46%\n",
            "97.60%\n",
            "55.56%\n"
          ],
          "name": "stdout"
        }
      ]
    },
    {
      "cell_type": "code",
      "metadata": {
        "id": "oBCpik7e1sB_",
        "outputId": "6074ec33-8050-4e4e-ea52-24b66ba8b56a",
        "colab": {
          "base_uri": "https://localhost:8080/",
          "height": 34
        }
      },
      "source": [
        "precision_RanForest_weight = precision_score(test_Y,pred_RanForest,average='weighted')\n",
        "print(\"{:.2%}\".format(precision_RanForest_weight))"
      ],
      "execution_count": null,
      "outputs": [
        {
          "output_type": "stream",
          "text": [
            "80.94%\n"
          ],
          "name": "stdout"
        }
      ]
    },
    {
      "cell_type": "code",
      "metadata": {
        "id": "i6SF9GXrnMNr",
        "outputId": "aca254f2-1b90-4c03-d866-29428670c76f",
        "colab": {
          "base_uri": "https://localhost:8080/",
          "height": 34
        }
      },
      "source": [
        "recall_RanForest_weight = recall_score(test_Y,pred_RanForest,average='weighted')\n",
        "print(\"{:.2%}\".format(recall_RanForest_weight))"
      ],
      "execution_count": null,
      "outputs": [
        {
          "output_type": "stream",
          "text": [
            "74.25%\n"
          ],
          "name": "stdout"
        }
      ]
    },
    {
      "cell_type": "code",
      "metadata": {
        "id": "tQFmKSKgndVt",
        "outputId": "bfbacf71-d230-4f1d-c882-50cb68e734fc",
        "colab": {
          "base_uri": "https://localhost:8080/",
          "height": 34
        }
      },
      "source": [
        "fscore_RanForest_weight = f1_score(test_Y,pred_RanForest,average='weighted')\n",
        "print(\"{:.2%}\".format(fscore_RanForest_weight))"
      ],
      "execution_count": null,
      "outputs": [
        {
          "output_type": "stream",
          "text": [
            "70.39%\n"
          ],
          "name": "stdout"
        }
      ]
    },
    {
      "cell_type": "code",
      "metadata": {
        "id": "1IiU0TZhJrb4",
        "outputId": "0eb5b19f-9bd9-42a9-f50b-4cbf59d9cd3c",
        "colab": {
          "base_uri": "https://localhost:8080/",
          "height": 102
        }
      },
      "source": [
        "recall_RanForest = recall_score(test_Y,pred_RanForest,average=None)\n",
        "for value in recall_RanForest:\n",
        "  print(\"{:.2%}\".format(value))"
      ],
      "execution_count": null,
      "outputs": [
        {
          "output_type": "stream",
          "text": [
            "97.37%\n",
            "74.53%\n",
            "60.42%\n",
            "4.74%\n",
            "2.50%\n"
          ],
          "name": "stdout"
        }
      ]
    },
    {
      "cell_type": "code",
      "metadata": {
        "id": "cj4-AEbsLCO7",
        "outputId": "fb69a3d5-6668-4a44-98b4-6b77df1548c7",
        "colab": {
          "base_uri": "https://localhost:8080/",
          "height": 102
        }
      },
      "source": [
        "cm = cm_RanForest.diagonal()/cm_RanForest.sum(axis=1)\n",
        "for value in cm:\n",
        "  print(\"{:.2%}\".format(value))"
      ],
      "execution_count": null,
      "outputs": [
        {
          "output_type": "stream",
          "text": [
            "97.37%\n",
            "74.53%\n",
            "60.42%\n",
            "4.74%\n",
            "2.50%\n"
          ],
          "name": "stdout"
        }
      ]
    },
    {
      "cell_type": "code",
      "metadata": {
        "id": "cRmXvgerPmcN",
        "outputId": "06414dc5-085f-4eef-d5fd-b914fe0a224f",
        "colab": {
          "base_uri": "https://localhost:8080/",
          "height": 102
        }
      },
      "source": [
        "## average = None , the scores for each class are returned.\n",
        "fscore = f1_score(test_Y,pred_RanForest,average=None)\n",
        "for value in fscore:\n",
        "  print(\"{:.2%}\".format(value))"
      ],
      "execution_count": null,
      "outputs": [
        {
          "output_type": "stream",
          "text": [
            "77.23%\n",
            "83.96%\n",
            "70.79%\n",
            "9.04%\n",
            "4.78%\n"
          ],
          "name": "stdout"
        }
      ]
    },
    {
      "cell_type": "code",
      "metadata": {
        "id": "H5k2L_3DBhGv"
      },
      "source": [
        "from sklearn import svm "
      ],
      "execution_count": null,
      "outputs": []
    },
    {
      "cell_type": "code",
      "metadata": {
        "id": "T-b3slzO3xek"
      },
      "source": [
        "# I have tried the svm with two kernels , the model has slightly higher accuracy with poly kernel."
      ],
      "execution_count": null,
      "outputs": []
    },
    {
      "cell_type": "code",
      "metadata": {
        "id": "3f8Fqw5RmQHf",
        "outputId": "13d00855-7ebb-4764-d078-e0337b915c73",
        "colab": {
          "base_uri": "https://localhost:8080/",
          "height": 85
        }
      },
      "source": [
        "clf_svm = svm.SVC(kernel='rbf')\n",
        "clf_svm.fit(train_x,train_Y)"
      ],
      "execution_count": null,
      "outputs": [
        {
          "output_type": "execute_result",
          "data": {
            "text/plain": [
              "SVC(C=1.0, break_ties=False, cache_size=200, class_weight=None, coef0=0.0,\n",
              "    decision_function_shape='ovr', degree=3, gamma='scale', kernel='rbf',\n",
              "    max_iter=-1, probability=False, random_state=None, shrinking=True,\n",
              "    tol=0.001, verbose=False)"
            ]
          },
          "metadata": {
            "tags": []
          },
          "execution_count": 46
        }
      ]
    },
    {
      "cell_type": "code",
      "metadata": {
        "id": "wnhQWbCQD0HH",
        "outputId": "49233f5f-4537-4f2b-c93a-33557dbe87e3",
        "colab": {
          "base_uri": "https://localhost:8080/",
          "height": 102
        }
      },
      "source": [
        "predict_svm = clf_svm.predict(test_x)\n",
        "cm_svm = confusion_matrix(test_Y,predict_svm)\n",
        "print(cm_svm)"
      ],
      "execution_count": null,
      "outputs": [
        {
          "output_type": "stream",
          "text": [
            "[[9462   62  187    0    0]\n",
            " [1882 5693   61    0    0]\n",
            " [ 836  175 1412    0    0]\n",
            " [2318    0    4  252    0]\n",
            " [ 177    0   15    3    5]]\n"
          ],
          "name": "stdout"
        }
      ]
    },
    {
      "cell_type": "code",
      "metadata": {
        "id": "j5vVulEnJWmX",
        "outputId": "ec7afdbf-7787-4416-f01d-71bbedf31eb1",
        "colab": {
          "base_uri": "https://localhost:8080/",
          "height": 102
        }
      },
      "source": [
        "cm = cm_svm.diagonal()/cm_svm.sum(axis=1)\n",
        "for value in cm:\n",
        "  print(\"{:.2%}\".format(value))"
      ],
      "execution_count": null,
      "outputs": [
        {
          "output_type": "stream",
          "text": [
            "95.93%\n",
            "74.49%\n",
            "65.83%\n",
            "9.67%\n",
            "6.50%\n"
          ],
          "name": "stdout"
        }
      ]
    },
    {
      "cell_type": "code",
      "metadata": {
        "id": "QPlSDInx158w"
      },
      "source": [
        "accuracy_svm = accuracy_score(test_Y,predict_svm)\n",
        "print (accuracy_svm)"
      ],
      "execution_count": null,
      "outputs": []
    },
    {
      "cell_type": "code",
      "metadata": {
        "id": "q_hPslwaDg8A",
        "outputId": "d0121ee7-5b50-466b-f964-e2750a90fd59",
        "colab": {
          "base_uri": "https://localhost:8080/",
          "height": 85
        }
      },
      "source": [
        "clf_svm= svm.SVC(kernel='poly')\n",
        "clf_svm.fit(train_x,train_Y)"
      ],
      "execution_count": null,
      "outputs": [
        {
          "output_type": "execute_result",
          "data": {
            "text/plain": [
              "SVC(C=1.0, break_ties=False, cache_size=200, class_weight=None, coef0=0.0,\n",
              "    decision_function_shape='ovr', degree=3, gamma='scale', kernel='poly',\n",
              "    max_iter=-1, probability=False, random_state=None, shrinking=True,\n",
              "    tol=0.001, verbose=False)"
            ]
          },
          "metadata": {
            "tags": []
          },
          "execution_count": 50
        }
      ]
    },
    {
      "cell_type": "code",
      "metadata": {
        "id": "YMdpN2OVDlg5",
        "outputId": "07dd1044-b50e-4a1b-858a-95545e8cb837",
        "colab": {
          "base_uri": "https://localhost:8080/",
          "height": 102
        }
      },
      "source": [
        "predict_svm = clf_svm.predict(test_x)\n",
        "cm_svm = confusion_matrix(test_Y,predict_svm)\n",
        "print(cm_svm)"
      ],
      "execution_count": null,
      "outputs": [
        {
          "output_type": "stream",
          "text": [
            "[[9316   58  336    1    0]\n",
            " [1921 5688   27    0    0]\n",
            " [ 658  170 1595    0    0]\n",
            " [2320    0    4  249    1]\n",
            " [ 175    2    2    8   13]]\n"
          ],
          "name": "stdout"
        }
      ]
    },
    {
      "cell_type": "code",
      "metadata": {
        "id": "3OaTAWS3n0BJ",
        "outputId": "c6cdf9be-d488-4a7f-ea85-031e846909dc",
        "colab": {
          "base_uri": "https://localhost:8080/",
          "height": 34
        }
      },
      "source": [
        "recall_svm_weight = recall_score(test_Y,predict_svm,average='weighted')\n",
        "print(\"{:.2%}\".format(recall_svm_weight))"
      ],
      "execution_count": null,
      "outputs": [
        {
          "output_type": "stream",
          "text": [
            "74.79%\n"
          ],
          "name": "stdout"
        }
      ]
    },
    {
      "cell_type": "code",
      "metadata": {
        "id": "9ONPHkXPoF_w",
        "outputId": "cca5d919-801f-4552-8439-5531c347e3b0",
        "colab": {
          "base_uri": "https://localhost:8080/",
          "height": 34
        }
      },
      "source": [
        "precision_svm_weight = precision_score(test_Y,predict_svm,average='weighted')\n",
        "print(\"{:.2%}\".format(precision_svm_weight))"
      ],
      "execution_count": null,
      "outputs": [
        {
          "output_type": "stream",
          "text": [
            "81.01%\n"
          ],
          "name": "stdout"
        }
      ]
    },
    {
      "cell_type": "code",
      "metadata": {
        "id": "9lEUCHvHoSmH",
        "outputId": "2dfa80a6-a7a1-4f4d-ea8b-d652ba20b978",
        "colab": {
          "base_uri": "https://localhost:8080/",
          "height": 34
        }
      },
      "source": [
        "fscore_svm_weight = f1_score(test_Y,predict_svm,average='weighted')\n",
        "print(\"{:.2%}\".format(fscore_svm_weight))"
      ],
      "execution_count": null,
      "outputs": [
        {
          "output_type": "stream",
          "text": [
            "71.66%\n"
          ],
          "name": "stdout"
        }
      ]
    },
    {
      "cell_type": "code",
      "metadata": {
        "id": "RbD6lkk4LgI4",
        "outputId": "d70699e8-4193-49b4-aedd-facede4247b6",
        "colab": {
          "base_uri": "https://localhost:8080/",
          "height": 102
        }
      },
      "source": [
        "cm = cm_svm.diagonal()/cm_svm.sum(axis=1)\n",
        "for value in cm:\n",
        "  print(\"{:.2%}\".format(value))\n"
      ],
      "execution_count": null,
      "outputs": [
        {
          "output_type": "stream",
          "text": [
            "95.93%\n",
            "74.49%\n",
            "65.83%\n",
            "9.67%\n",
            "6.50%\n"
          ],
          "name": "stdout"
        }
      ]
    },
    {
      "cell_type": "code",
      "metadata": {
        "id": "td-_jNINEcft",
        "outputId": "73b9bb69-447d-48fd-f8e1-f4c84d6fc70c",
        "colab": {
          "base_uri": "https://localhost:8080/",
          "height": 34
        }
      },
      "source": [
        "accuracy_svm = accuracy_score(test_Y,predict_svm)\n",
        "print (accuracy_svm)"
      ],
      "execution_count": null,
      "outputs": [
        {
          "output_type": "stream",
          "text": [
            "0.7479151880766501\n"
          ],
          "name": "stdout"
        }
      ]
    },
    {
      "cell_type": "code",
      "metadata": {
        "id": "3rgblyJ1ntbr"
      },
      "source": [
        "\n"
      ],
      "execution_count": null,
      "outputs": []
    },
    {
      "cell_type": "code",
      "metadata": {
        "id": "df3TAOgTHg5n"
      },
      "source": [
        "## we get slightly better accuracy by  initialize kernel to 'poly' compared with the default kernel which is 'rbf'"
      ],
      "execution_count": null,
      "outputs": []
    },
    {
      "cell_type": "code",
      "metadata": {
        "id": "22LYAFHt7Ips",
        "outputId": "d387e3dc-c137-4290-dc26-430cb811f368",
        "colab": {
          "base_uri": "https://localhost:8080/",
          "height": 102
        }
      },
      "source": [
        "precision_svm = precision_score(test_Y,predict_svm,average=None)\n",
        "for value in precision_svm:\n",
        "  print(\"{:.2%}\".format(value))"
      ],
      "execution_count": null,
      "outputs": [
        {
          "output_type": "stream",
          "text": [
            "64.74%\n",
            "96.11%\n",
            "81.21%\n",
            "96.51%\n",
            "92.86%\n"
          ],
          "name": "stdout"
        }
      ]
    },
    {
      "cell_type": "code",
      "metadata": {
        "id": "KfmtJMbH7MlY",
        "outputId": "7a00f8b2-71a3-4940-a408-e4d4efb63a28",
        "colab": {
          "base_uri": "https://localhost:8080/",
          "height": 102
        }
      },
      "source": [
        "recall_svm = recall_score(test_Y,predict_svm,average=None)\n",
        "for value in recall_svm:\n",
        "  print(\"{:.2%}\".format(value))"
      ],
      "execution_count": null,
      "outputs": [
        {
          "output_type": "stream",
          "text": [
            "95.93%\n",
            "74.49%\n",
            "65.83%\n",
            "9.67%\n",
            "6.50%\n"
          ],
          "name": "stdout"
        }
      ]
    },
    {
      "cell_type": "code",
      "metadata": {
        "id": "Ma4_pM3w7qNJ",
        "outputId": "c5e70523-6238-426f-c128-7789744510dc",
        "colab": {
          "base_uri": "https://localhost:8080/",
          "height": 102
        }
      },
      "source": [
        "fscore_svm = f1_score(test_Y,predict_svm,average=None)\n",
        "for value in fscore_svm:\n",
        "  print(\"{:.2%}\".format(value))"
      ],
      "execution_count": null,
      "outputs": [
        {
          "output_type": "stream",
          "text": [
            "77.31%\n",
            "83.93%\n",
            "72.71%\n",
            "17.58%\n",
            "12.15%\n"
          ],
          "name": "stdout"
        }
      ]
    },
    {
      "cell_type": "code",
      "metadata": {
        "id": "XOlJ6jmH33Gq"
      },
      "source": [
        "from sklearn.ensemble import AdaBoostClassifier\n",
        "clf_AdaBoost = AdaBoostClassifier(n_estimators=100,random_state=0).fit(train_x,train_Y)"
      ],
      "execution_count": null,
      "outputs": []
    },
    {
      "cell_type": "code",
      "metadata": {
        "id": "ry5f-aSa97uT",
        "outputId": "d4e30022-90f2-470a-9e10-8e064fd8809e",
        "colab": {
          "base_uri": "https://localhost:8080/",
          "height": 102
        }
      },
      "source": [
        "predicted_Adaboost = clf_AdaBoost.predict(test_x)\n",
        "cm_adaboost = confusion_matrix(test_Y,predicted_Adaboost)\n",
        "print(cm_adaboost)"
      ],
      "execution_count": null,
      "outputs": [
        {
          "output_type": "stream",
          "text": [
            "[[7878 1382   94    5  352]\n",
            " [1692 4586 1350    0    8]\n",
            " [ 174  532 1714    0    3]\n",
            " [2203  328   27   13    3]\n",
            " [  90    0  100    5    5]]\n"
          ],
          "name": "stdout"
        }
      ]
    },
    {
      "cell_type": "code",
      "metadata": {
        "id": "hXDDNr4_L348",
        "outputId": "4cc7297c-f4bc-412c-9531-4b47aa8b5263",
        "colab": {
          "base_uri": "https://localhost:8080/",
          "height": 102
        }
      },
      "source": [
        "cm = cm_adaboost.diagonal()/cm_adaboost.sum(axis=1)\n",
        "for value in cm:\n",
        "   print(\"{:.2%}\".format(value))"
      ],
      "execution_count": null,
      "outputs": [
        {
          "output_type": "stream",
          "text": [
            "81.12%\n",
            "60.06%\n",
            "70.74%\n",
            "0.51%\n",
            "2.50%\n"
          ],
          "name": "stdout"
        }
      ]
    },
    {
      "cell_type": "code",
      "metadata": {
        "id": "FO95bvhU-19g"
      },
      "source": [
        "accuracy_Adaboost = accuracy_score(test_Y,predicted_Adaboost)\n",
        "accuracy_Adaboost"
      ],
      "execution_count": null,
      "outputs": []
    },
    {
      "cell_type": "code",
      "metadata": {
        "id": "iyijUgZWomXZ",
        "outputId": "b974ff30-fe49-4b49-9bb2-3fc0626a502f",
        "colab": {
          "base_uri": "https://localhost:8080/",
          "height": 34
        }
      },
      "source": [
        "fscore_adaboost_weight = f1_score(test_Y,predicted_Adaboost,average='weighted')\n",
        "print(\"{:.2%}\".format(fscore_adaboost_weight))"
      ],
      "execution_count": null,
      "outputs": [
        {
          "output_type": "stream",
          "text": [
            "59.27%\n"
          ],
          "name": "stdout"
        }
      ]
    },
    {
      "cell_type": "code",
      "metadata": {
        "id": "CU44mCjwo6cB",
        "outputId": "55f2b4e4-5cc1-40dc-9595-0b0d29978181",
        "colab": {
          "base_uri": "https://localhost:8080/",
          "height": 34
        }
      },
      "source": [
        "recall_adaboost_weight = recall_score(test_Y,predicted_Adaboost,average='weighted')\n",
        "print(\"{:.2%}\".format(recall_adaboost_weight))"
      ],
      "execution_count": null,
      "outputs": [
        {
          "output_type": "stream",
          "text": [
            "62.97%\n"
          ],
          "name": "stdout"
        }
      ]
    },
    {
      "cell_type": "code",
      "metadata": {
        "id": "K4mQz_kmpLkk",
        "outputId": "a4f74780-c9c0-4997-977e-2bad651d501c",
        "colab": {
          "base_uri": "https://localhost:8080/",
          "height": 34
        }
      },
      "source": [
        "precision_adaboost_weight = precision_score(test_Y,predicted_Adaboost,average='weighted')\n",
        "print(\"{:.2%}\".format(precision_adaboost_weight))"
      ],
      "execution_count": null,
      "outputs": [
        {
          "output_type": "stream",
          "text": [
            "63.02%\n"
          ],
          "name": "stdout"
        }
      ]
    },
    {
      "cell_type": "code",
      "metadata": {
        "id": "EawXT8m09oZy",
        "outputId": "5bd9d025-2aac-41b4-8c7a-d616bb5bd352",
        "colab": {
          "base_uri": "https://localhost:8080/",
          "height": 102
        }
      },
      "source": [
        "precision_adaBoost = precision_score(test_Y,predicted_Adaboost,average=None)\n",
        "for value in precision_adaBoost:\n",
        "  print(\"{:.2%}\".format(value))"
      ],
      "execution_count": null,
      "outputs": [
        {
          "output_type": "stream",
          "text": [
            "65.45%\n",
            "67.16%\n",
            "52.18%\n",
            "56.52%\n",
            "1.35%\n"
          ],
          "name": "stdout"
        }
      ]
    },
    {
      "cell_type": "code",
      "metadata": {
        "id": "5r2j7GAhAlBk",
        "outputId": "f4795f91-4981-48cc-a2bd-98cf0d186df3",
        "colab": {
          "base_uri": "https://localhost:8080/",
          "height": 102
        }
      },
      "source": [
        "recall_adaBoost = recall_score(test_Y,predicted_Adaboost,average=None)\n",
        "for value in recall_adaBoost:\n",
        "  print(\"{:.2%}\".format(value))"
      ],
      "execution_count": null,
      "outputs": [
        {
          "output_type": "stream",
          "text": [
            "81.12%\n",
            "60.06%\n",
            "70.74%\n",
            "0.51%\n",
            "2.50%\n"
          ],
          "name": "stdout"
        }
      ]
    },
    {
      "cell_type": "code",
      "metadata": {
        "id": "tnY2iTMgArXp",
        "outputId": "f36e2fea-630c-4dff-a758-7c3698ba1ec4",
        "colab": {
          "base_uri": "https://localhost:8080/",
          "height": 102
        }
      },
      "source": [
        "fscore_adaBoost = f1_score(test_Y,predicted_Adaboost,average=None)\n",
        "for value in fscore_adaBoost:\n",
        "  print(\"{:.2%}\".format(value))"
      ],
      "execution_count": null,
      "outputs": [
        {
          "output_type": "stream",
          "text": [
            "72.45%\n",
            "63.41%\n",
            "60.06%\n",
            "1.00%\n",
            "1.75%\n"
          ],
          "name": "stdout"
        }
      ]
    },
    {
      "cell_type": "code",
      "metadata": {
        "id": "UpaPdO2IwyJh"
      },
      "source": [
        "# I noticed, Initializing n_estimator to 100 is a good way to tune the model. the default is 50."
      ],
      "execution_count": null,
      "outputs": []
    },
    {
      "cell_type": "code",
      "metadata": {
        "id": "dodnfYJWG3Yu"
      },
      "source": [
        "from sklearn.linear_model import LogisticRegression\n",
        "clf_LR = LogisticRegression().fit(train_x,train_Y)\n"
      ],
      "execution_count": null,
      "outputs": []
    },
    {
      "cell_type": "code",
      "metadata": {
        "id": "30mtWXR_Hp4m",
        "outputId": "d47edbb1-e61a-47ef-d739-afb435b6d03d",
        "colab": {
          "base_uri": "https://localhost:8080/",
          "height": 102
        }
      },
      "source": [
        "predicted_LR = clf_LR.predict(test_x)\n",
        "cm_LR = confusion_matrix(test_Y,predicted_LR)\n",
        "print(cm_LR)"
      ],
      "execution_count": null,
      "outputs": [
        {
          "output_type": "stream",
          "text": [
            "[[8993   90  624    2    2]\n",
            " [1560 6052   24    0    0]\n",
            " [ 496   99 1825    3    0]\n",
            " [2471    2    2   99    0]\n",
            " [ 184    3    0    5    8]]\n"
          ],
          "name": "stdout"
        }
      ]
    },
    {
      "cell_type": "code",
      "metadata": {
        "id": "ymJioz-jpqVj",
        "outputId": "0fc04f16-df8c-4c2b-adb9-3157ef4ed71f",
        "colab": {
          "base_uri": "https://localhost:8080/",
          "height": 34
        }
      },
      "source": [
        "precision_LR_weight = precision_score(test_Y,predicted_LR,average='weighted')\n",
        "print(\"{:.2%}\".format(precision_LR_weight))"
      ],
      "execution_count": null,
      "outputs": [
        {
          "output_type": "stream",
          "text": [
            "80.09%\n"
          ],
          "name": "stdout"
        }
      ]
    },
    {
      "cell_type": "code",
      "metadata": {
        "id": "W2bsl1z3pzXg",
        "outputId": "65cad836-2a76-4f49-89e6-dd468756f2a3",
        "colab": {
          "base_uri": "https://localhost:8080/",
          "height": 34
        }
      },
      "source": [
        "recall_LR_weight = recall_score(test_Y,predicted_LR,average='weighted')\n",
        "print(\"{:.2%}\".format(recall_LR_weight))"
      ],
      "execution_count": null,
      "outputs": [
        {
          "output_type": "stream",
          "text": [
            "75.31%\n"
          ],
          "name": "stdout"
        }
      ]
    },
    {
      "cell_type": "code",
      "metadata": {
        "id": "RKl_ksBnp0IE",
        "outputId": "586caf6e-c34a-43ab-d6b8-e6e76464aa5a",
        "colab": {
          "base_uri": "https://localhost:8080/",
          "height": 34
        }
      },
      "source": [
        "fscore_LR_weight = f1_score(test_Y,predicted_LR,average='weighted')\n",
        "print(\"{:.2%}\".format(fscore_LR_weight))"
      ],
      "execution_count": null,
      "outputs": [
        {
          "output_type": "stream",
          "text": [
            "71.54%\n"
          ],
          "name": "stdout"
        }
      ]
    },
    {
      "cell_type": "code",
      "metadata": {
        "id": "UVM3CCX8Meoa",
        "outputId": "6079a2f0-9bf3-4fc7-aa09-6b485327b844",
        "colab": {
          "base_uri": "https://localhost:8080/",
          "height": 102
        }
      },
      "source": [
        "cm = cm_LR.diagonal()/cm_LR.sum(axis=1)\n",
        "for value in cm:\n",
        "  print(\"{:.2%}\".format(value))"
      ],
      "execution_count": null,
      "outputs": [
        {
          "output_type": "stream",
          "text": [
            "92.61%\n",
            "79.26%\n",
            "75.32%\n",
            "3.85%\n",
            "4.00%\n"
          ],
          "name": "stdout"
        }
      ]
    },
    {
      "cell_type": "code",
      "metadata": {
        "id": "2IdKVKI6IDIB",
        "outputId": "8d1ac7e2-99a4-4015-c63d-24c47063dc17",
        "colab": {
          "base_uri": "https://localhost:8080/",
          "height": 34
        }
      },
      "source": [
        "accuracy_LR = accuracy_score(test_Y,predicted_LR)\n",
        "accuracy_LR"
      ],
      "execution_count": null,
      "outputs": [
        {
          "output_type": "execute_result",
          "data": {
            "text/plain": [
              "0.7530606813342796"
            ]
          },
          "metadata": {
            "tags": []
          },
          "execution_count": 64
        }
      ]
    },
    {
      "cell_type": "code",
      "metadata": {
        "id": "Auvc3n-C6pHs",
        "outputId": "cc7ef4b5-6854-4c20-89a2-92743e760096",
        "colab": {
          "base_uri": "https://localhost:8080/",
          "height": 102
        }
      },
      "source": [
        "precision_LR = precision_score(test_Y,predicted_LR,average=None)\n",
        "for value in precision_LR:\n",
        "  print(\"{:.2%}\".format(value))\n",
        "  \n"
      ],
      "execution_count": null,
      "outputs": [
        {
          "output_type": "stream",
          "text": [
            "65.62%\n",
            "96.89%\n",
            "73.74%\n",
            "90.83%\n",
            "80.00%\n"
          ],
          "name": "stdout"
        }
      ]
    },
    {
      "cell_type": "code",
      "metadata": {
        "id": "59XWPqK2TNqF"
      },
      "source": [
        "precision_LR_weighted = precision_score(test_Y,predicted_LR,average='weighted')\n",
        "precision_LR_weighted"
      ],
      "execution_count": null,
      "outputs": []
    },
    {
      "cell_type": "code",
      "metadata": {
        "id": "0jE4CA6ECvzu",
        "outputId": "3223395a-b434-41e1-cea0-50d19f1175e1",
        "colab": {
          "base_uri": "https://localhost:8080/",
          "height": 102
        }
      },
      "source": [
        "recall_LR = recall_score(test_Y,predicted_LR,average=None)\n",
        "for value in recall_LR:\n",
        "  print(\"{:.2%}\".format(value))"
      ],
      "execution_count": null,
      "outputs": [
        {
          "output_type": "stream",
          "text": [
            "92.61%\n",
            "79.26%\n",
            "75.32%\n",
            "3.85%\n",
            "4.00%\n"
          ],
          "name": "stdout"
        }
      ]
    },
    {
      "cell_type": "code",
      "metadata": {
        "id": "RcIPLzHtSaDD"
      },
      "source": [
        "recall_LR_weighted = recall_score(test_Y,predicted_LR,average='weighted')\n",
        "recall_LR_weighted"
      ],
      "execution_count": null,
      "outputs": []
    },
    {
      "cell_type": "code",
      "metadata": {
        "id": "ll12ASF4C1Om",
        "outputId": "bde24b8d-6745-445b-9946-da683881d2cf",
        "colab": {
          "base_uri": "https://localhost:8080/",
          "height": 102
        }
      },
      "source": [
        "fscore_LR = f1_score(test_Y,predicted_LR,average=None)\n",
        "for value in fscore_LR:\n",
        "  print(\"{:.2%}\".format(value))"
      ],
      "execution_count": null,
      "outputs": [
        {
          "output_type": "stream",
          "text": [
            "76.81%\n",
            "87.19%\n",
            "74.52%\n",
            "7.38%\n",
            "7.62%\n"
          ],
          "name": "stdout"
        }
      ]
    },
    {
      "cell_type": "code",
      "metadata": {
        "id": "WfobC8NWTuzk"
      },
      "source": [
        "fscore_LR_weighted = f1_score(test_Y,predicted_LR,average='weighted')\n",
        "fscore_LR_weighted"
      ],
      "execution_count": null,
      "outputs": []
    },
    {
      "cell_type": "code",
      "metadata": {
        "id": "riZqkh4GMyMJ"
      },
      "source": [
        "# I have initialized the n_neighbors with 3 and 6, but  it seems the default which is 5 is the best option."
      ],
      "execution_count": null,
      "outputs": []
    },
    {
      "cell_type": "code",
      "metadata": {
        "id": "7EHo5sb3I-Lf"
      },
      "source": [
        "from sklearn.neighbors import KNeighborsClassifier\n",
        "clf_knn = KNeighborsClassifier(n_neighbors=5).fit(train_x,train_Y)"
      ],
      "execution_count": null,
      "outputs": []
    },
    {
      "cell_type": "code",
      "metadata": {
        "id": "SdCuEFXpJX57"
      },
      "source": [
        "predicted_KNN = clf_knn.predict(test_x)\n",
        "cm_knn = confusion_matrix(test_Y,predicted_KNN)"
      ],
      "execution_count": null,
      "outputs": []
    },
    {
      "cell_type": "code",
      "metadata": {
        "id": "DqtDmwd5MrsT",
        "outputId": "636a7164-8daa-4515-a1da-d83dbe5c64f1",
        "colab": {
          "base_uri": "https://localhost:8080/",
          "height": 102
        }
      },
      "source": [
        "cm = cm_knn.diagonal()/cm_knn.sum(axis=1)\n",
        "for value in cm:\n",
        "  print(\"{:.2%}\".format(value))"
      ],
      "execution_count": null,
      "outputs": [
        {
          "output_type": "stream",
          "text": [
            "97.25%\n",
            "77.59%\n",
            "67.23%\n",
            "6.60%\n",
            "4.50%\n"
          ],
          "name": "stdout"
        }
      ]
    },
    {
      "cell_type": "code",
      "metadata": {
        "id": "6njnZYszqVqn",
        "outputId": "72d787ee-0efe-44cd-c987-bfefa886fb2d",
        "colab": {
          "base_uri": "https://localhost:8080/",
          "height": 34
        }
      },
      "source": [
        "fscore_KNN_weight = f1_score(test_Y,predicted_KNN,average='weighted')\n",
        "print(\"{:.2%}\".format(fscore_KNN_weight))"
      ],
      "execution_count": null,
      "outputs": [
        {
          "output_type": "stream",
          "text": [
            "72.54%\n"
          ],
          "name": "stdout"
        }
      ]
    },
    {
      "cell_type": "code",
      "metadata": {
        "id": "gVOckBk3qdRq",
        "outputId": "899123f4-9371-468c-db0d-aa2a7583e275",
        "colab": {
          "base_uri": "https://localhost:8080/",
          "height": 34
        }
      },
      "source": [
        "precision_KNN_weight = precision_score(test_Y,predicted_KNN,average='weighted')\n",
        "print(\"{:.2%}\".format(precision_KNN_weight))"
      ],
      "execution_count": null,
      "outputs": [
        {
          "output_type": "stream",
          "text": [
            "81.69%\n"
          ],
          "name": "stdout"
        }
      ]
    },
    {
      "cell_type": "code",
      "metadata": {
        "id": "MU9j_KnQqeb3",
        "outputId": "deb1f8b6-c8f4-478c-9019-6013ba7b4921",
        "colab": {
          "base_uri": "https://localhost:8080/",
          "height": 34
        }
      },
      "source": [
        "recall_KNN_weight = recall_score(test_Y,predicted_KNN,average='weighted')\n",
        "print(\"{:.2%}\".format(recall_KNN_weight))"
      ],
      "execution_count": null,
      "outputs": [
        {
          "output_type": "stream",
          "text": [
            "76.19%\n"
          ],
          "name": "stdout"
        }
      ]
    },
    {
      "cell_type": "code",
      "metadata": {
        "id": "wfcW1mioKnHX",
        "outputId": "d181316d-7010-42a3-95df-4b2f5e4808ba",
        "colab": {
          "base_uri": "https://localhost:8080/",
          "height": 34
        }
      },
      "source": [
        "accuracy_KNN = accuracy_score(test_Y,predicted_KNN)\n",
        "accuracy_KNN"
      ],
      "execution_count": null,
      "outputs": [
        {
          "output_type": "execute_result",
          "data": {
            "text/plain": [
              "0.7619322214336409"
            ]
          },
          "metadata": {
            "tags": []
          },
          "execution_count": 70
        }
      ]
    },
    {
      "cell_type": "code",
      "metadata": {
        "id": "ZbE0pe0FDixk",
        "outputId": "75ecb916-f4f9-4692-8d7c-d3e6a79226fd",
        "colab": {
          "base_uri": "https://localhost:8080/",
          "height": 102
        }
      },
      "source": [
        "precision_KNN = precision_score(test_Y,predicted_KNN,average=None)\n",
        "for value in precision_KNN:\n",
        "  print(\"{:.2%}\".format(value))"
      ],
      "execution_count": null,
      "outputs": [
        {
          "output_type": "stream",
          "text": [
            "66.41%\n",
            "96.17%\n",
            "82.52%\n",
            "94.97%\n",
            "90.00%\n"
          ],
          "name": "stdout"
        }
      ]
    },
    {
      "cell_type": "code",
      "metadata": {
        "id": "2h-Np8uDEvEU",
        "outputId": "ec4ef6da-cef3-45a5-f507-c5542216689c",
        "colab": {
          "base_uri": "https://localhost:8080/",
          "height": 102
        }
      },
      "source": [
        "recall_KNN = recall_score(test_Y,predicted_KNN,average=None)\n",
        "for value in recall_KNN:\n",
        "  print(\"{:.2%}\".format(value))"
      ],
      "execution_count": null,
      "outputs": [
        {
          "output_type": "stream",
          "text": [
            "97.25%\n",
            "77.59%\n",
            "67.23%\n",
            "6.60%\n",
            "4.50%\n"
          ],
          "name": "stdout"
        }
      ]
    },
    {
      "cell_type": "code",
      "metadata": {
        "id": "HwNz4OS2Djfj",
        "outputId": "28a1fbc8-4da6-4f02-d41a-c2258cf31dff",
        "colab": {
          "base_uri": "https://localhost:8080/",
          "height": 102
        }
      },
      "source": [
        "fscore_KNN = f1_score(test_Y,predicted_KNN,average=None)\n",
        "for value in fscore_KNN:\n",
        "  print(\"{:.2%}\".format(value))"
      ],
      "execution_count": null,
      "outputs": [
        {
          "output_type": "stream",
          "text": [
            "78.93%\n",
            "85.89%\n",
            "74.10%\n",
            "12.35%\n",
            "8.57%\n"
          ],
          "name": "stdout"
        }
      ]
    },
    {
      "cell_type": "code",
      "metadata": {
        "id": "iALPyC_7NIGy",
        "outputId": "8ee2bc2c-3e42-45b5-94d1-3e6cf6ee9810",
        "colab": {
          "base_uri": "https://localhost:8080/",
          "height": 249
        }
      },
      "source": [
        "x_values = ['RandomForest','SVM','AdaBoost','LogisticRegressio','KNN']\n",
        "accuracy_values = [accuracy_RanForest,accuracy_svm,accuracy_Adaboost,accuracy_LR,accuracy_KNN]\n",
        "plt.yticks(np.arange(0,1,0.080))\n",
        "plt.xticks(rotation=90)\n",
        "plt.bar(x_values,accuracy_values)"
      ],
      "execution_count": null,
      "outputs": [
        {
          "output_type": "error",
          "ename": "NameError",
          "evalue": "ignored",
          "traceback": [
            "\u001b[0;31m---------------------------------------------------------------------------\u001b[0m",
            "\u001b[0;31mNameError\u001b[0m                                 Traceback (most recent call last)",
            "\u001b[0;32m<ipython-input-190-e5b7be7561ca>\u001b[0m in \u001b[0;36m<module>\u001b[0;34m()\u001b[0m\n\u001b[1;32m      1\u001b[0m \u001b[0mx_values\u001b[0m \u001b[0;34m=\u001b[0m \u001b[0;34m[\u001b[0m\u001b[0;34m'RandomForest'\u001b[0m\u001b[0;34m,\u001b[0m\u001b[0;34m'SVM'\u001b[0m\u001b[0;34m,\u001b[0m\u001b[0;34m'AdaBoost'\u001b[0m\u001b[0;34m,\u001b[0m\u001b[0;34m'LogisticRegressio'\u001b[0m\u001b[0;34m,\u001b[0m\u001b[0;34m'KNN'\u001b[0m\u001b[0;34m]\u001b[0m\u001b[0;34m\u001b[0m\u001b[0;34m\u001b[0m\u001b[0m\n\u001b[0;32m----> 2\u001b[0;31m \u001b[0maccuracy_values\u001b[0m \u001b[0;34m=\u001b[0m \u001b[0;34m[\u001b[0m\u001b[0maccuracy_RanForest\u001b[0m\u001b[0;34m,\u001b[0m\u001b[0maccuracy_svm\u001b[0m\u001b[0;34m,\u001b[0m\u001b[0maccuracy_Adaboost\u001b[0m\u001b[0;34m,\u001b[0m\u001b[0maccuracy_LR\u001b[0m\u001b[0;34m,\u001b[0m\u001b[0maccuracy_KNN\u001b[0m\u001b[0;34m]\u001b[0m\u001b[0;34m\u001b[0m\u001b[0;34m\u001b[0m\u001b[0m\n\u001b[0m\u001b[1;32m      3\u001b[0m \u001b[0mplt\u001b[0m\u001b[0;34m.\u001b[0m\u001b[0myticks\u001b[0m\u001b[0;34m(\u001b[0m\u001b[0mnp\u001b[0m\u001b[0;34m.\u001b[0m\u001b[0marange\u001b[0m\u001b[0;34m(\u001b[0m\u001b[0;36m0\u001b[0m\u001b[0;34m,\u001b[0m\u001b[0;36m1\u001b[0m\u001b[0;34m,\u001b[0m\u001b[0;36m0.080\u001b[0m\u001b[0;34m)\u001b[0m\u001b[0;34m)\u001b[0m\u001b[0;34m\u001b[0m\u001b[0;34m\u001b[0m\u001b[0m\n\u001b[1;32m      4\u001b[0m \u001b[0mplt\u001b[0m\u001b[0;34m.\u001b[0m\u001b[0mxticks\u001b[0m\u001b[0;34m(\u001b[0m\u001b[0mrotation\u001b[0m\u001b[0;34m=\u001b[0m\u001b[0;36m90\u001b[0m\u001b[0;34m)\u001b[0m\u001b[0;34m\u001b[0m\u001b[0;34m\u001b[0m\u001b[0m\n\u001b[1;32m      5\u001b[0m \u001b[0mplt\u001b[0m\u001b[0;34m.\u001b[0m\u001b[0mbar\u001b[0m\u001b[0;34m(\u001b[0m\u001b[0mx_values\u001b[0m\u001b[0;34m,\u001b[0m\u001b[0maccuracy_values\u001b[0m\u001b[0;34m)\u001b[0m\u001b[0;34m\u001b[0m\u001b[0;34m\u001b[0m\u001b[0m\n",
            "\u001b[0;31mNameError\u001b[0m: name 'accuracy_RanForest' is not defined"
          ]
        }
      ]
    },
    {
      "cell_type": "code",
      "metadata": {
        "id": "oM5T9MCoXKzX"
      },
      "source": [
        "## as it is clear from the above plot, KNN has highest accuracy and AdaBoost the lowest."
      ],
      "execution_count": null,
      "outputs": []
    },
    {
      "cell_type": "code",
      "metadata": {
        "id": "kJWcp4y0XagT"
      },
      "source": [
        "## how to plot confusion_Matrix"
      ],
      "execution_count": null,
      "outputs": []
    },
    {
      "cell_type": "code",
      "metadata": {
        "id": "STZwVACaNctt"
      },
      "source": [
        "train_Y.unique()"
      ],
      "execution_count": null,
      "outputs": []
    },
    {
      "cell_type": "code",
      "metadata": {
        "id": "JErERlmsv7h9",
        "outputId": "1a869514-79aa-476c-94e5-eb858e2fc8b1",
        "colab": {
          "base_uri": "https://localhost:8080/",
          "height": 34
        }
      },
      "source": [
        "attack_class = train_Y.unique()\n",
        "attack_class.sort()\n",
        "attack_class"
      ],
      "execution_count": null,
      "outputs": [
        {
          "output_type": "execute_result",
          "data": {
            "text/plain": [
              "array(['benign', 'dos', 'probe', 'r2l', 'u2r'], dtype=object)"
            ]
          },
          "metadata": {
            "tags": []
          },
          "execution_count": 186
        }
      ]
    },
    {
      "cell_type": "code",
      "metadata": {
        "id": "onv07aPCwedd"
      },
      "source": [
        "# plt.plot(attack_class,confusion_matrix(test_Y,predicted_LR))\n",
        "# plt.yticks(np.arange(0,10000,1000))"
      ],
      "execution_count": null,
      "outputs": []
    },
    {
      "cell_type": "code",
      "metadata": {
        "id": "cSRvnocE0mwC"
      },
      "source": [
        "from sklearn.metrics import plot_confusion_matrix"
      ],
      "execution_count": null,
      "outputs": []
    },
    {
      "cell_type": "code",
      "metadata": {
        "id": "Cxv63tWQ0uBr",
        "outputId": "c0b6ac2e-fd98-49e6-d716-780e4037a119",
        "colab": {
          "base_uri": "https://localhost:8080/",
          "height": 296
        }
      },
      "source": [
        "## plotting confusion_matrix for AdaBoost\n",
        "plot_confusion_matrix(clf_AdaBoost,test_x,test_Y,display_labels=attack_class,values_format='.0f',)"
      ],
      "execution_count": null,
      "outputs": [
        {
          "output_type": "execute_result",
          "data": {
            "text/plain": [
              "<sklearn.metrics._plot.confusion_matrix.ConfusionMatrixDisplay at 0x7f20e5e1a080>"
            ]
          },
          "metadata": {
            "tags": []
          },
          "execution_count": 187
        },
        {
          "output_type": "display_data",
          "data": {
            "image/png": "[encoded data removed]",
            "text/plain": [
              "<Figure size 432x288 with 2 Axes>"
            ]
          },
          "metadata": {
            "tags": [],
            "needs_background": "light"
          }
        }
      ]
    },
    {
      "cell_type": "code",
      "metadata": {
        "id": "PiYy-YqSF3lk",
        "outputId": "22f09351-e011-4eb5-a2ef-aec0e0725d6c",
        "colab": {
          "base_uri": "https://localhost:8080/",
          "height": 296
        }
      },
      "source": [
        "# plotting confusion_matrix for Logistic Regression\n",
        "plot_confusion_matrix(clf_LR,test_x,test_Y,display_labels=attack_class,values_format='.0f')"
      ],
      "execution_count": null,
      "outputs": [
        {
          "output_type": "execute_result",
          "data": {
            "text/plain": [
              "<sklearn.metrics._plot.confusion_matrix.ConfusionMatrixDisplay at 0x7f20e5f005f8>"
            ]
          },
          "metadata": {
            "tags": []
          },
          "execution_count": 188
        },
        {
          "output_type": "display_data",
          "data": {
            "image/png": "[encoded data removed]",
            "text/plain": [
              "<Figure size 432x288 with 2 Axes>"
            ]
          },
          "metadata": {
            "tags": [],
            "needs_background": "light"
          }
        }
      ]
    },
    {
      "cell_type": "code",
      "metadata": {
        "id": "cgNVhs7NF7zZ",
        "outputId": "140acad0-c4d2-4056-d50e-969ae7a82bd2",
        "colab": {
          "base_uri": "https://localhost:8080/",
          "height": 296
        }
      },
      "source": [
        "# plotting confusion_matrix for KNN\n",
        "plot_confusion_matrix(clf_knn,test_x,test_Y,display_labels=attack_class,values_format='.0f')"
      ],
      "execution_count": null,
      "outputs": [
        {
          "output_type": "execute_result",
          "data": {
            "text/plain": [
              "<sklearn.metrics._plot.confusion_matrix.ConfusionMatrixDisplay at 0x7f20e5c08e48>"
            ]
          },
          "metadata": {
            "tags": []
          },
          "execution_count": 189
        },
        {
          "output_type": "display_data",
          "data": {
            "image/png": "[encoded data removed]",
            "text/plain": [
              "<Figure size 432x288 with 2 Axes>"
            ]
          },
          "metadata": {
            "tags": [],
            "needs_background": "light"
          }
        }
      ]
    },
    {
      "cell_type": "code",
      "metadata": {
        "id": "JfD5b202F88i"
      },
      "source": [
        "# plotting confusion_matrix for svm\n",
        "plot_confusion_matrix(clf_svm,test_x,test_Y,display_labels=attack_class,values_format='.0f')"
      ],
      "execution_count": null,
      "outputs": []
    },
    {
      "cell_type": "code",
      "metadata": {
        "id": "TXSuypGkF9bX"
      },
      "source": [
        "# ROC_Curve computes reciever operating characteristics. It can be only implemented on \n",
        "# the binary classification tasks. "
      ],
      "execution_count": null,
      "outputs": []
    },
    {
      "cell_type": "code",
      "metadata": {
        "id": "_LdT_zgm-ogC"
      },
      "source": [
        "## FPR (Fasle positive rate(alarm )) = False positives /(False positives + True Negatives)"
      ],
      "execution_count": null,
      "outputs": []
    },
    {
      "cell_type": "code",
      "metadata": {
        "id": "SBM_7eMH6mRS"
      },
      "source": [
        "RanForest_Prob = clf_RanForest.predict_proba(test_x)"
      ],
      "execution_count": null,
      "outputs": []
    },
    {
      "cell_type": "code",
      "metadata": {
        "id": "EsGKLApWJ51B"
      },
      "source": [
        "RanForest_Prob = RanForest_Prob[:,1]"
      ],
      "execution_count": null,
      "outputs": []
    },
    {
      "cell_type": "code",
      "metadata": {
        "id": "nLnL010XBQpu"
      },
      "source": [
        "fpr, tpr, thresholds= metrics.roc_curve(test_Y,RanForest_Prob,pos_label=5)\n",
        "#fpr"
      ],
      "execution_count": null,
      "outputs": []
    },
    {
      "cell_type": "code",
      "metadata": {
        "id": "xtJ_WDlq3LJ-"
      },
      "source": [
        "Knn_prob = clf_knn.predict_proba(test_x)"
      ],
      "execution_count": null,
      "outputs": []
    },
    {
      "cell_type": "code",
      "metadata": {
        "id": "oyjoZAy64YU0"
      },
      "source": [
        "Knn_prob = Knn_prob[0:1]"
      ],
      "execution_count": null,
      "outputs": []
    },
    {
      "cell_type": "code",
      "metadata": {
        "id": "PqZlmrKn5Un8"
      },
      "source": [
        "#fpr, tpr, thresholds= metrics.roc_curve(test_Y,Knn_prob,pos_label=1)"
      ],
      "execution_count": null,
      "outputs": []
    },
    {
      "cell_type": "code",
      "metadata": {
        "id": "PoCVeS3m6agF"
      },
      "source": [
        "LR_Prob = clf_LR.predict_proba(test_x)"
      ],
      "execution_count": null,
      "outputs": []
    },
    {
      "cell_type": "code",
      "metadata": {
        "id": "2PqRbrCJ6sRd"
      },
      "source": [
        "LR_Prob = LR_Prob[:,1]"
      ],
      "execution_count": null,
      "outputs": []
    },
    {
      "cell_type": "code",
      "metadata": {
        "id": "CJZSMq5d6zOn"
      },
      "source": [
        "fpr, tpr, thresholds= metrics.roc_curve(test_Y,LR_Prob,pos_label=5)\n"
      ],
      "execution_count": null,
      "outputs": []
    },
    {
      "cell_type": "code",
      "metadata": {
        "id": "7xmL2crP7CsG"
      },
      "source": [
        "Adaboost_Prob = clf_AdaBoost.predict_proba(test_x)"
      ],
      "execution_count": null,
      "outputs": []
    },
    {
      "cell_type": "code",
      "metadata": {
        "id": "fy-0Gsci7mKq"
      },
      "source": [
        "Adaboost_Prob = Adaboost_Prob[:,1]"
      ],
      "execution_count": null,
      "outputs": []
    },
    {
      "cell_type": "code",
      "metadata": {
        "id": "JTk3E9Yc8ICD"
      },
      "source": [
        "fpr, tpr, thresholds= metrics.roc_curve(test_Y,Adaboost_Prob,pos_label=5)\n"
      ],
      "execution_count": null,
      "outputs": []
    },
    {
      "cell_type": "code",
      "metadata": {
        "id": "LEvuq74e7tWt"
      },
      "source": [
        "fpr, tpr, thresholds= metrics.roc_curve(test_Ylabel=5)\n"
      ],
      "execution_count": null,
      "outputs": []
    },
    {
      "cell_type": "code",
      "metadata": {
        "id": "qszuMgNzYsOG"
      },
      "source": [
        "tpr"
      ],
      "execution_count": null,
      "outputs": []
    },
    {
      "cell_type": "code",
      "metadata": {
        "id": "sRkSNBAplvFy"
      },
      "source": [
        "thresholds"
      ],
      "execution_count": null,
      "outputs": []
    },
    {
      "cell_type": "code",
      "metadata": {
        "id": "1pdAw9QSYPbk"
      },
      "source": [
        "plt.plot(fpr,thresholds,linestyle = '--')"
      ],
      "execution_count": null,
      "outputs": []
    }
  ]
}